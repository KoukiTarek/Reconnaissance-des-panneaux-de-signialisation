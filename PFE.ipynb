{
 "cells": [
  {
   "cell_type": "code",
   "execution_count": 30,
   "metadata": {
    "scrolled": true
   },
   "outputs": [
    {
     "name": "stdout",
     "output_type": "stream",
     "text": [
      "Requirement already up-to-date: numpy in c:\\users\\hp\\anaconda3\\lib\\site-packages (1.19.0)\n",
      "Requirement already up-to-date: pandas in c:\\users\\hp\\anaconda3\\lib\\site-packages (1.0.5)\n",
      "Requirement already up-to-date: matplotlib in c:\\users\\hp\\anaconda3\\lib\\site-packages (3.2.2)\n",
      "Requirement already up-to-date: sklearn in c:\\users\\hp\\anaconda3\\lib\\site-packages (0.0)\n",
      "Requirement already satisfied, skipping upgrade: pytz>=2017.2 in c:\\users\\hp\\anaconda3\\lib\\site-packages (from pandas) (2019.3)\n",
      "Requirement already satisfied, skipping upgrade: python-dateutil>=2.6.1 in c:\\users\\hp\\anaconda3\\lib\\site-packages (from pandas) (2.8.0)\n",
      "Requirement already satisfied, skipping upgrade: pyparsing!=2.0.4,!=2.1.2,!=2.1.6,>=2.0.1 in c:\\users\\hp\\anaconda3\\lib\\site-packages (from matplotlib) (2.4.2)\n",
      "Requirement already satisfied, skipping upgrade: cycler>=0.10 in c:\\users\\hp\\anaconda3\\lib\\site-packages (from matplotlib) (0.10.0)\n",
      "Requirement already satisfied, skipping upgrade: kiwisolver>=1.0.1 in c:\\users\\hp\\anaconda3\\lib\\site-packages (from matplotlib) (1.1.0)\n",
      "Requirement already satisfied, skipping upgrade: scikit-learn in c:\\users\\hp\\anaconda3\\lib\\site-packages (from sklearn) (0.21.3)\n",
      "Requirement already satisfied, skipping upgrade: six>=1.5 in c:\\users\\hp\\anaconda3\\lib\\site-packages (from python-dateutil>=2.6.1->pandas) (1.12.0)\n",
      "Requirement already satisfied, skipping upgrade: setuptools in c:\\users\\hp\\anaconda3\\lib\\site-packages (from kiwisolver>=1.0.1->matplotlib) (41.4.0)\n",
      "Requirement already satisfied, skipping upgrade: joblib>=0.11 in c:\\users\\hp\\anaconda3\\lib\\site-packages (from scikit-learn->sklearn) (0.13.2)\n",
      "Requirement already satisfied, skipping upgrade: scipy>=0.17.0 in c:\\users\\hp\\anaconda3\\lib\\site-packages (from scikit-learn->sklearn) (1.4.1)\n",
      "Note: you may need to restart the kernel to use updated packages.\n"
     ]
    }
   ],
   "source": [
    "\n",
    "pip install numpy pandas matplotlib --upgrade sklearn \n"
   ]
  },
  {
   "cell_type": "code",
   "execution_count": 31,
   "metadata": {
    "scrolled": true
   },
   "outputs": [
    {
     "name": "stdout",
     "output_type": "stream",
     "text": [
      "Requirement already up-to-date: tensorflow in c:\\users\\hp\\anaconda3\\lib\\site-packages (2.2.0)\n",
      "Requirement already satisfied, skipping upgrade: scipy==1.4.1; python_version >= \"3\" in c:\\users\\hp\\anaconda3\\lib\\site-packages (from tensorflow) (1.4.1)\n",
      "Requirement already satisfied, skipping upgrade: gast==0.3.3 in c:\\users\\hp\\anaconda3\\lib\\site-packages (from tensorflow) (0.3.3)\n",
      "Requirement already satisfied, skipping upgrade: keras-preprocessing>=1.1.0 in c:\\users\\hp\\anaconda3\\lib\\site-packages (from tensorflow) (1.1.2)\n",
      "Requirement already satisfied, skipping upgrade: grpcio>=1.8.6 in c:\\users\\hp\\anaconda3\\lib\\site-packages (from tensorflow) (1.29.0)\n",
      "Requirement already satisfied, skipping upgrade: astunparse==1.6.3 in c:\\users\\hp\\anaconda3\\lib\\site-packages (from tensorflow) (1.6.3)\n",
      "Requirement already satisfied, skipping upgrade: termcolor>=1.1.0 in c:\\users\\hp\\anaconda3\\lib\\site-packages (from tensorflow) (1.1.0)\n",
      "Requirement already satisfied, skipping upgrade: wrapt>=1.11.1 in c:\\users\\hp\\anaconda3\\lib\\site-packages (from tensorflow) (1.11.2)\n",
      "Requirement already satisfied, skipping upgrade: six>=1.12.0 in c:\\users\\hp\\anaconda3\\lib\\site-packages (from tensorflow) (1.12.0)\n",
      "Requirement already satisfied, skipping upgrade: google-pasta>=0.1.8 in c:\\users\\hp\\anaconda3\\lib\\site-packages (from tensorflow) (0.2.0)\n",
      "Requirement already satisfied, skipping upgrade: h5py<2.11.0,>=2.10.0 in c:\\users\\hp\\anaconda3\\lib\\site-packages (from tensorflow) (2.10.0)\n",
      "Requirement already satisfied, skipping upgrade: numpy<2.0,>=1.16.0 in c:\\users\\hp\\anaconda3\\lib\\site-packages (from tensorflow) (1.19.0)\n",
      "Requirement already satisfied, skipping upgrade: absl-py>=0.7.0 in c:\\users\\hp\\anaconda3\\lib\\site-packages (from tensorflow) (0.9.0)\n",
      "Requirement already satisfied, skipping upgrade: wheel>=0.26; python_version >= \"3\" in c:\\users\\hp\\anaconda3\\lib\\site-packages (from tensorflow) (0.33.6)\n",
      "Requirement already satisfied, skipping upgrade: tensorflow-estimator<2.3.0,>=2.2.0 in c:\\users\\hp\\anaconda3\\lib\\site-packages (from tensorflow) (2.2.0)\n",
      "Requirement already satisfied, skipping upgrade: opt-einsum>=2.3.2 in c:\\users\\hp\\anaconda3\\lib\\site-packages (from tensorflow) (3.2.1)\n",
      "Requirement already satisfied, skipping upgrade: tensorboard<2.3.0,>=2.2.0 in c:\\users\\hp\\anaconda3\\lib\\site-packages (from tensorflow) (2.2.2)\n",
      "Requirement already satisfied, skipping upgrade: protobuf>=3.8.0 in c:\\users\\hp\\anaconda3\\lib\\site-packages (from tensorflow) (3.12.3)\n",
      "Requirement already satisfied, skipping upgrade: markdown>=2.6.8 in c:\\users\\hp\\anaconda3\\lib\\site-packages (from tensorboard<2.3.0,>=2.2.0->tensorflow) (3.1.1)\n",
      "Requirement already satisfied, skipping upgrade: google-auth<2,>=1.6.3 in c:\\users\\hp\\anaconda3\\lib\\site-packages (from tensorboard<2.3.0,>=2.2.0->tensorflow) (1.16.0)\n",
      "Requirement already satisfied, skipping upgrade: google-auth-oauthlib<0.5,>=0.4.1 in c:\\users\\hp\\anaconda3\\lib\\site-packages (from tensorboard<2.3.0,>=2.2.0->tensorflow) (0.4.1)\n",
      "Requirement already satisfied, skipping upgrade: werkzeug>=0.11.15 in c:\\users\\hp\\anaconda3\\lib\\site-packages (from tensorboard<2.3.0,>=2.2.0->tensorflow) (0.16.0)\n",
      "Requirement already satisfied, skipping upgrade: setuptools>=41.0.0 in c:\\users\\hp\\anaconda3\\lib\\site-packages (from tensorboard<2.3.0,>=2.2.0->tensorflow) (41.4.0)\n",
      "Requirement already satisfied, skipping upgrade: requests<3,>=2.21.0 in c:\\users\\hp\\anaconda3\\lib\\site-packages (from tensorboard<2.3.0,>=2.2.0->tensorflow) (2.22.0)\n",
      "Requirement already satisfied, skipping upgrade: tensorboard-plugin-wit>=1.6.0 in c:\\users\\hp\\anaconda3\\lib\\site-packages (from tensorboard<2.3.0,>=2.2.0->tensorflow) (1.6.0.post3)\n",
      "Requirement already satisfied, skipping upgrade: rsa<4.1,>=3.1.4 in c:\\users\\hp\\anaconda3\\lib\\site-packages (from google-auth<2,>=1.6.3->tensorboard<2.3.0,>=2.2.0->tensorflow) (4.0)\n",
      "Requirement already satisfied, skipping upgrade: pyasn1-modules>=0.2.1 in c:\\users\\hp\\anaconda3\\lib\\site-packages (from google-auth<2,>=1.6.3->tensorboard<2.3.0,>=2.2.0->tensorflow) (0.2.8)\n",
      "Requirement already satisfied, skipping upgrade: cachetools<5.0,>=2.0.0 in c:\\users\\hp\\anaconda3\\lib\\site-packages (from google-auth<2,>=1.6.3->tensorboard<2.3.0,>=2.2.0->tensorflow) (4.1.0)\n",
      "Requirement already satisfied, skipping upgrade: requests-oauthlib>=0.7.0 in c:\\users\\hp\\anaconda3\\lib\\site-packages (from google-auth-oauthlib<0.5,>=0.4.1->tensorboard<2.3.0,>=2.2.0->tensorflow) (1.3.0)\n",
      "Requirement already satisfied, skipping upgrade: chardet<3.1.0,>=3.0.2 in c:\\users\\hp\\anaconda3\\lib\\site-packages (from requests<3,>=2.21.0->tensorboard<2.3.0,>=2.2.0->tensorflow) (3.0.4)\n",
      "Requirement already satisfied, skipping upgrade: urllib3!=1.25.0,!=1.25.1,<1.26,>=1.21.1 in c:\\users\\hp\\anaconda3\\lib\\site-packages (from requests<3,>=2.21.0->tensorboard<2.3.0,>=2.2.0->tensorflow) (1.24.2)\n",
      "Requirement already satisfied, skipping upgrade: certifi>=2017.4.17 in c:\\users\\hp\\anaconda3\\lib\\site-packages (from requests<3,>=2.21.0->tensorboard<2.3.0,>=2.2.0->tensorflow) (2019.9.11)\n",
      "Requirement already satisfied, skipping upgrade: idna<2.9,>=2.5 in c:\\users\\hp\\anaconda3\\lib\\site-packages (from requests<3,>=2.21.0->tensorboard<2.3.0,>=2.2.0->tensorflow) (2.8)\n",
      "Requirement already satisfied, skipping upgrade: pyasn1>=0.1.3 in c:\\users\\hp\\anaconda3\\lib\\site-packages (from rsa<4.1,>=3.1.4->google-auth<2,>=1.6.3->tensorboard<2.3.0,>=2.2.0->tensorflow) (0.4.8)\n",
      "Requirement already satisfied, skipping upgrade: oauthlib>=3.0.0 in c:\\users\\hp\\anaconda3\\lib\\site-packages (from requests-oauthlib>=0.7.0->google-auth-oauthlib<0.5,>=0.4.1->tensorboard<2.3.0,>=2.2.0->tensorflow) (3.1.0)\n",
      "Note: you may need to restart the kernel to use updated packages.\n"
     ]
    }
   ],
   "source": [
    "pip install --user --upgrade tensorflow"
   ]
  },
  {
   "cell_type": "code",
   "execution_count": 32,
   "metadata": {},
   "outputs": [
    {
     "name": "stdout",
     "output_type": "stream",
     "text": [
      "Requirement already satisfied: keras==2.3.1 in c:\\users\\hp\\anaconda3\\lib\\site-packages (2.3.1)\n",
      "Requirement already satisfied: six>=1.9.0 in c:\\users\\hp\\anaconda3\\lib\\site-packages (from keras==2.3.1) (1.12.0)\n",
      "Requirement already satisfied: scipy>=0.14 in c:\\users\\hp\\anaconda3\\lib\\site-packages (from keras==2.3.1) (1.4.1)\n",
      "Requirement already satisfied: keras-preprocessing>=1.0.5 in c:\\users\\hp\\anaconda3\\lib\\site-packages (from keras==2.3.1) (1.1.2)\n",
      "Requirement already satisfied: h5py in c:\\users\\hp\\anaconda3\\lib\\site-packages (from keras==2.3.1) (2.10.0)\n",
      "Requirement already satisfied: keras-applications>=1.0.6 in c:\\users\\hp\\anaconda3\\lib\\site-packages (from keras==2.3.1) (1.0.8)\n",
      "Requirement already satisfied: numpy>=1.9.1 in c:\\users\\hp\\anaconda3\\lib\\site-packages (from keras==2.3.1) (1.19.0)\n",
      "Requirement already satisfied: pyyaml in c:\\users\\hp\\anaconda3\\lib\\site-packages (from keras==2.3.1) (5.1.2)\n",
      "Note: you may need to restart the kernel to use updated packages.\n"
     ]
    }
   ],
   "source": [
    "pip install keras==2.3.1"
   ]
  },
  {
   "cell_type": "code",
   "execution_count": 33,
   "metadata": {},
   "outputs": [],
   "source": [
    "import os\n",
    "import numpy as np\n",
    "import pandas as pd\n",
    "import matplotlib.pyplot as plt\n",
    "from PIL import Image\n",
    "import tensorflow as tf\n",
    "from sklearn.model_selection import train_test_split\n",
    "from keras.utils import to_categorical\n",
    "from keras.models import Sequential\n",
    "from keras.layers import Conv2D, MaxPool2D, Dense, Flatten, Dropout\n",
    "\n",
    "X = []\n",
    "Y = []\n",
    "total_class = 43\n",
    "cur_directory = os.getcwd()"
   ]
  },
  {
   "cell_type": "code",
   "execution_count": 34,
   "metadata": {
    "scrolled": true
   },
   "outputs": [
    {
     "name": "stdout",
     "output_type": "stream",
     "text": [
      "(39209, 30, 30, 3) (39209,)\n"
     ]
    }
   ],
   "source": [
    "#L'ensemble de données comporte des dossiers de 0 à 42, soit 43 classes\n",
    "\n",
    "\n",
    "for index in range(total_class):\n",
    "    path = os.path.join(cur_directory,'Train',str(index))\n",
    "    images = os.listdir(path)\n",
    "    \n",
    "    \n",
    "#itération sur toutes les images du dossier index\n",
    "\n",
    "\n",
    "    for img in images:\n",
    "        try:\n",
    "            image = Image.open(path + '\\\\' + img)\n",
    "            image = image.resize((30,30))\n",
    "            image = np.array(image)\n",
    "            \n",
    "            \n",
    "            X.append(image)\n",
    "            Y.append(index)\n",
    "        except:\n",
    "            print(\"Error\")\n",
    "            \n",
    "X = np.array(X)\n",
    "Y = np.array(Y)\n",
    "\n",
    "print(X.shape, Y.shape)"
   ]
  },
  {
   "cell_type": "code",
   "execution_count": 35,
   "metadata": {},
   "outputs": [
    {
     "name": "stdout",
     "output_type": "stream",
     "text": [
      "Shape of x_train:  (31367, 30, 30, 3)  and y_train: (31367,)\n",
      "Shape of x_test:  (7842, 30, 30, 3)  and y_test: (7842,)\n"
     ]
    }
   ],
   "source": [
    "x_train, x_test, y_train, y_test = train_test_split(X, Y, test_size=0.2, random_state=42)\n",
    "print(\"Shape of x_train: \", x_train.shape, \" and y_train:\",y_train.shape)\n",
    "print(\"Shape of x_test: \", x_test.shape, \" and y_test:\",y_test.shape)\n",
    "\n",
    "#un codage à chaud des étiquettes\n",
    "\n",
    "y_train = to_categorical(y_train, 43)\n",
    "y_test = to_categorical(y_test, 43)"
   ]
  },
  {
   "cell_type": "code",
   "execution_count": 38,
   "metadata": {},
   "outputs": [],
   "source": [
    "model = Sequential()\n",
    "model.add(Conv2D(filters=32, kernel_size=(5,5), activation='relu', input_shape=x_train.shape[1:]))\n",
    "model.add(Conv2D(filters=32, kernel_size=(5,5), activation='relu'))\n",
    "model.add(MaxPool2D(pool_size=(2, 2)))\n",
    "model.add(Dropout(rate=0.25))\n",
    "model.add(Conv2D(filters=64, kernel_size=(3, 3), activation='relu'))\n",
    "model.add(Conv2D(filters=64, kernel_size=(3, 3), activation='relu'))\n",
    "model.add(MaxPool2D(pool_size=(2, 2)))\n",
    "model.add(Dropout(rate=0.25))\n",
    "model.add(Flatten())\n",
    "model.add(Dense(256, activation='relu'))\n",
    "model.add(Dropout(rate=0.5))\n",
    "model.add(Dense(43, activation='softmax'))\n",
    "model.compile(loss='categorical_crossentropy', optimizer='adam', metrics=['accuracy'])\n"
   ]
  },
  {
   "cell_type": "code",
   "execution_count": 39,
   "metadata": {
    "scrolled": true
   },
   "outputs": [
    {
     "name": "stdout",
     "output_type": "stream",
     "text": [
      "WARNING:tensorflow:From C:\\Users\\hp\\Anaconda3\\lib\\site-packages\\tensorflow\\python\\ops\\math_ops.py:3066: to_int32 (from tensorflow.python.ops.math_ops) is deprecated and will be removed in a future version.\n",
      "Instructions for updating:\n",
      "Use tf.cast instead.\n",
      "Train on 31367 samples, validate on 7842 samples\n",
      "Epoch 1/15\n",
      "31367/31367 [==============================] - 142s 5ms/step - loss: 2.4968 - accuracy: 0.3842 - val_loss: 0.9664 - val_accuracy: 0.7623\n",
      "Epoch 2/15\n",
      "31367/31367 [==============================] - 149s 5ms/step - loss: 1.0229 - accuracy: 0.6976 - val_loss: 0.4517 - val_accuracy: 0.8715\n",
      "Epoch 3/15\n",
      "31367/31367 [==============================] - 151s 5ms/step - loss: 0.6152 - accuracy: 0.8157 - val_loss: 0.2469 - val_accuracy: 0.9343\n",
      "Epoch 4/15\n",
      "31367/31367 [==============================] - 141s 4ms/step - loss: 0.4274 - accuracy: 0.8729 - val_loss: 0.1515 - val_accuracy: 0.9555\n",
      "Epoch 5/15\n",
      "31367/31367 [==============================] - 151s 5ms/step - loss: 0.3420 - accuracy: 0.8994 - val_loss: 0.1227 - val_accuracy: 0.9671\n",
      "Epoch 6/15\n",
      "31367/31367 [==============================] - 149s 5ms/step - loss: 0.3000 - accuracy: 0.9115 - val_loss: 0.1046 - val_accuracy: 0.9697\n",
      "Epoch 7/15\n",
      "31367/31367 [==============================] - 147s 5ms/step - loss: 0.2501 - accuracy: 0.9264 - val_loss: 0.0994 - val_accuracy: 0.9732\n",
      "Epoch 8/15\n",
      "31367/31367 [==============================] - 146s 5ms/step - loss: 0.2357 - accuracy: 0.9307 - val_loss: 0.0979 - val_accuracy: 0.9709\n",
      "Epoch 9/15\n",
      "31367/31367 [==============================] - 153s 5ms/step - loss: 0.2303 - accuracy: 0.9339 - val_loss: 0.0741 - val_accuracy: 0.9796\n",
      "Epoch 10/15\n",
      "31367/31367 [==============================] - 144s 5ms/step - loss: 0.2245 - accuracy: 0.9353 - val_loss: 0.0650 - val_accuracy: 0.9815\n",
      "Epoch 11/15\n",
      "31367/31367 [==============================] - 138s 4ms/step - loss: 0.1934 - accuracy: 0.9440 - val_loss: 0.0715 - val_accuracy: 0.9800\n",
      "Epoch 12/15\n",
      "31367/31367 [==============================] - 143s 5ms/step - loss: 0.1723 - accuracy: 0.9502 - val_loss: 0.0553 - val_accuracy: 0.9842\n",
      "Epoch 13/15\n",
      "31367/31367 [==============================] - 149s 5ms/step - loss: 0.1878 - accuracy: 0.9477 - val_loss: 0.0744 - val_accuracy: 0.9776\n",
      "Epoch 14/15\n",
      "31367/31367 [==============================] - 135s 4ms/step - loss: 0.1929 - accuracy: 0.9451 - val_loss: 0.0568 - val_accuracy: 0.9828\n",
      "Epoch 15/15\n",
      "31367/31367 [==============================] - 140s 4ms/step - loss: 0.1511 - accuracy: 0.9579 - val_loss: 0.0644 - val_accuracy: 0.9815\n"
     ]
    }
   ],
   "source": [
    "epochs = 15\n",
    "history = model.fit(x_train, y_train, batch_size=64, epochs=epochs,validation_data=(x_test, y_test))\n",
    "model.save('traffic_recognition.h5')"
   ]
  },
  {
   "cell_type": "code",
   "execution_count": 40,
   "metadata": {},
   "outputs": [
    {
     "data": {
      "text/plain": [
       "<matplotlib.legend.Legend at 0x19bf0821b88>"
      ]
     },
     "execution_count": 40,
     "metadata": {},
     "output_type": "execute_result"
    },
    {
     "data": {
      "image/png": "[encoded data removed]",
      "text/plain": [
       "<Figure size 432x288 with 1 Axes>"
      ]
     },
     "metadata": {
      "needs_background": "light"
     },
     "output_type": "display_data"
    },
    {
     "data": {
      "image/png": "[encoded data removed]",
      "text/plain": [
       "<Figure size 432x288 with 1 Axes>"
      ]
     },
     "metadata": {
      "needs_background": "light"
     },
     "output_type": "display_data"
    }
   ],
   "source": [
    "plt.figure(0)\n",
    "plt.plot(history.history['accuracy'], label='training accuracy')\n",
    "plt.plot(history.history['val_accuracy'], label='val accuracy')\n",
    "plt.title('Accuracy')\n",
    "plt.xlabel('epochs')\n",
    "plt.ylabel('accuracy')\n",
    "plt.legend()\n",
    "\n",
    "plt.figure(1)\n",
    "plt.plot(history.history['loss'], label='training loss')\n",
    "plt.plot(history.history['val_loss'], label='val loss')\n",
    "plt.title('Loss')\n",
    "plt.xlabel('epochs')\n",
    "plt.ylabel('loss')\n",
    "plt.legend()"
   ]
  },
  {
   "cell_type": "code",
   "execution_count": 41,
   "metadata": {},
   "outputs": [
    {
     "data": {
      "text/plain": [
       "0.9507521773555028"
      ]
     },
     "execution_count": 41,
     "metadata": {},
     "output_type": "execute_result"
    }
   ],
   "source": [
    "#Tester le modèle\n",
    "\n",
    "from sklearn.metrics import accuracy_score\n",
    "import pandas as pd\n",
    "y_test = pd.read_csv('Test.csv')\n",
    "\n",
    "labels = y_test[\"ClassId\"].values\n",
    "img_paths = y_test[\"Path\"].values\n",
    "\n",
    "test_data=[]\n",
    "\n",
    "for path in img_paths:\n",
    "    image = Image.open(path)\n",
    "    image = image.resize((30,30))\n",
    "    test_data.append(np.array(image))\n",
    "\n",
    "test_data = np.array(test_data)\n",
    "pred = model.predict_classes(test_data)\n",
    "\n",
    "#Précision des données de test\n",
    "\n",
    "from sklearn.metrics import accuracy_score\n",
    "accuracy_score(labels, pred)"
   ]
  },
  {
   "cell_type": "code",
   "execution_count": 3,
   "metadata": {},
   "outputs": [
    {
     "name": "stdout",
     "output_type": "stream",
     "text": [
      "Limite de vitesse (80km/h)\n",
      "Limite de vitesse (80km/h)\n"
     ]
    }
   ],
   "source": [
    "import tkinter as tk\n",
    "from tkinter import filedialog\n",
    "from tkinter import *\n",
    "from PIL import ImageTk, Image\n",
    "import numpy\n",
    "#charger le modèle formé pour classer le signe\n",
    "from keras.models import load_model\n",
    "model = load_model('traffic_recognition.h5')\n",
    "#dictionnaire permettant de classer tous les panneaux de signalisation\n",
    "classes = { 1:'Limite de vitesse (20km/h)',\n",
    "    2:'Limite de vitesse (30km/h)',\n",
    "    3:'Limite de vitesse (50km/h)',\n",
    "    4:'Limite de vitesse (60km/h)',\n",
    "    5:'Limite de vitesse (70km/h)',\n",
    "    6:'Limite de vitesse (80km/h)',\n",
    "    7:'Fin de la limitation de vitesse (80km/h)',\n",
    "    8:'Limite de vitesse (100km/h)',\n",
    "    9:'Limite de vitesse (120km/h)',\n",
    "    10:'Pas de passage',\n",
    "    11:'Pas de passage de plus de 3,5 tonnes',\n",
    "    12:'Droit de passage à l''intersection',\n",
    "    13:'Route prioritaire',\n",
    "    14:'Rendement',\n",
    "    15:'Stop',\n",
    "    16:'Pas de véhicules',\n",
    "    17:'Veh > 3,5 tonnes interdites',\n",
    "    18:'Pas d''entrée',\n",
    "    19:'Mise en garde générale',\n",
    "    20:'Courbe dangereuse à gauche',\n",
    "    21:'courbe dangereuse à droite',\n",
    "    22:'Double courbe',\n",
    "    23:'route cahoteuse',\n",
    "    24:'route glissante',\n",
    "    25:'route se rétrécit sur la droite',\n",
    "    26:'Travaux routiers',\n",
    "    27:'Feux de signalisation',\n",
    "    28:'Piétons',\n",
    "    29:'Enfants qui traversent',\n",
    "    30:'Traversée à vélo',\n",
    "    31:'Attention à la glace/neige',\n",
    "    32:'Passage d''animaux sauvages',\n",
    "    33:'Vitesse de fin + dépassement des limites',\n",
    "    34:'Tournez à droite',\n",
    "    35:'Tournez à gauche',\n",
    "    36:'En avant seulement',\n",
    "    37:'Aller tout droit ou à droite',\n",
    "    38:'Aller tout droit ou à gauche',\n",
    "    39:'Garder la droite',\n",
    "    40:'Gardez la gauche',\n",
    "    41:'Rond-point obligatoire',\n",
    "    42:'Fin de l''absence de passage',\n",
    "    43:'Fin sans passage veh> 3,5 tonnes' }\n",
    "def classify(file_path):\n",
    "    image = Image.open(file_path)\n",
    "    image = image.resize((30,30))\n",
    "    image = numpy.expand_dims(image, axis=0)\n",
    "    image = numpy.array(image)\n",
    "    pred = model.predict_classes([image])[0]\n",
    "    sign = classes[pred+1]\n",
    "    print(sign)\n",
    "    result.configure(text=sign)\n",
    "def show_classify_btn(file_path):\n",
    "    classify_b=Button(top,text=\"Classifier l'image\",command=lambda: classify(file_path),padx=10,pady=5)\n",
    "    classify_b.configure(bg='#364156', fg='white',font=('arial',10,'bold'))\n",
    "    classify_b.place(relx=0.79,rely=0.46)\n",
    "def upload_image():\n",
    "    try:\n",
    "        file_path=filedialog.askopenfilename()\n",
    "        uploaded=Image.open(file_path)\n",
    "        uploaded.thumbnail(((top.winfo_width()/2.25),(top.winfo_height()/2.25)))\n",
    "        im=ImageTk.PhotoImage(uploaded)\n",
    "        sign_image.configure(image=im)\n",
    "        sign_image.image=im\n",
    "        result.configure(text='')\n",
    "        show_classify_btn(file_path)\n",
    "    except:\n",
    "        pass\n",
    "if __name__==\"__main__\":\n",
    "    #initializes GUI\n",
    "    top=tk.Tk()\n",
    "    top.geometry('800x600')\n",
    "    top.title('Reconnaissance des panneaux de signalisation')\n",
    "    top.configure(bg='#f9f6f7')\n",
    "    heading = Label(top, text=\"Reconnaissance des panneaux de signalisation\",pady=20, font=('arial',20,'bold'))\n",
    "    heading.configure(background='#f9f6f7',fg='#364156')\n",
    "    heading.pack()\n",
    "    result=Label(top, font=('arial',15,'bold'))\n",
    "    result.configure(fg='#011638',bg='#f9f6f7')\n",
    "    sign_image = Label(top)\n",
    "    upload=Button(top,text=\"Télécharger une image\",command=upload_image,padx=10,pady=5)\n",
    "    upload.configure(background='#364156', fg='white',font=('arial',10,'bold'))\n",
    "    upload.pack(side=BOTTOM,pady=50)\n",
    "    sign_image.pack(side=BOTTOM,expand=True)\n",
    "    result.pack(side=BOTTOM,expand=True)\n",
    "    top.mainloop()"
   ]
  },
  {
   "cell_type": "code",
   "execution_count": null,
   "metadata": {},
   "outputs": [],
   "source": []
  }
 ],
 "metadata": {
  "kernelspec": {
   "display_name": "Python 3",
   "language": "python",
   "name": "python3"
  },
  "language_info": {
   "codemirror_mode": {
    "name": "ipython",
    "version": 3
   },
   "file_extension": ".py",
   "mimetype": "text/x-python",
   "name": "python",
   "nbconvert_exporter": "python",
   "pygments_lexer": "ipython3",
   "version": "3.7.4"
  }
 },
 "nbformat": 4,
 "nbformat_minor": 2
}
